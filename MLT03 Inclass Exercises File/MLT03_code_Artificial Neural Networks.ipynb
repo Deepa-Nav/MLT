{
 "cells": [
  {
   "cell_type": "markdown",
   "id": "cbe62209",
   "metadata": {},
   "source": [
    "# MLT-03 ANN Concepts\n",
    "\n",
    "- Authored by: *Jay Parmar*\n",
    "- Last modified on: *27th August 2023*"
   ]
  },
  {
   "cell_type": "markdown",
   "id": "2ae3ab97",
   "metadata": {},
   "source": [
    "## Biological Neuron\n",
    "\n",
    "![Structure of a Neuron](https://www.researchgate.net/profile/Rouhan-Noor/publication/342511210/figure/fig1/AS:907382427246592@1593348237470/Structure-of-a-basic-neuron.ppm)\n",
    "\n",
    "*Source: [Rouhan Noor](https://www.researchgate.net/profile/Rouhan-Noor)*"
   ]
  },
  {
   "cell_type": "markdown",
   "id": "b9c72945",
   "metadata": {},
   "source": [
    "## Artificial Neuron\n",
    "\n",
    "![Artificial Neuron](https://miro.medium.com/v2/resize:fit:1200/1*hkYlTODpjJgo32DoCOWN5w.png)\n",
    "\n",
    "*Source: [Rukshan Pramoditha](https://towardsdatascience.com/the-concept-of-artificial-neurons-perceptrons-in-neural-networks-fab22249cbfc)*"
   ]
  },
  {
   "cell_type": "markdown",
   "id": "82aaa7c3",
   "metadata": {},
   "source": [
    "## Activation Functions\n",
    "\n",
    "![Activation Functions](https://assets-global.website-files.com/5d7b77b063a9066d83e1209c/627d12431fbd5e61913b7423_60be4975a399c635d06ea853_hero_image_activation_func_dark.png)\n",
    "\n",
    "*Source: [V7 Labs](https://www.v7labs.com/blog/neural-networks-activation-functions)*\n",
    "\n",
    "#### Important Ones\n",
    "\n",
    "![Widely used Activation Functions](https://ai-artificial-intelligence.webyes.com.br/wp-content/uploads/2022/09/image-1-967x1024.png)\n",
    "\n",
    "*Source: [AI ML](https://ai-artificial-intelligence.webyes.com.br/)*"
   ]
  },
  {
   "cell_type": "markdown",
   "id": "f87c2287",
   "metadata": {},
   "source": [
    "## Perceptron Model\n",
    "\n",
    "![Perceptron Model](https://www.researchgate.net/publication/354134028/figure/fig1/AS:1080248410087460@1634562699906/Single-layer-perceptron-model.jpg)\n",
    "\n",
    "*Source: [Scientific Programming](https://www.researchgate.net/journal/Scientific-Programming-1875-919X)*"
   ]
  },
  {
   "cell_type": "markdown",
   "id": "dfe214d4",
   "metadata": {},
   "source": [
    "## Feed Forward Model\n",
    "\n",
    "![An example of feed forward neural network](https://learnopencv.com/wp-content/uploads/2017/10/mlp-diagram.jpg)\n",
    "\n",
    "*Source: [LearnOpenCV](https://learnopencv.com)*"
   ]
  },
  {
   "cell_type": "markdown",
   "id": "55577821",
   "metadata": {},
   "source": [
    "## Deep Neural Network\n",
    "\n",
    "![Deep Neural Network](https://www.marktechpost.com/wp-content/uploads/2022/09/Screen-Shot-2022-09-23-at-10.46.58-PM-1024x499.png)\n",
    "\n",
    "*Source: [Marktechpost](https://www.marktechpost.com)*"
   ]
  },
  {
   "cell_type": "markdown",
   "id": "3a8a546f",
   "metadata": {},
   "source": [
    "## Putting Everything Together\n",
    "\n",
    "![Neural Networks](https://www.researchgate.net/profile/Zhenzhu-Meng/publication/339446790/figure/fig2/AS:862019817320450@1582532948784/A-biological-neuron-in-comparison-to-an-artificial-neural-network-a-human-neuron-b.png)\n",
    "\n",
    "*Source: [Zhenzhu Meng](https://www.researchgate.net/profile/Zhenzhu-Meng/publication/339446790)*"
   ]
  },
  {
   "cell_type": "markdown",
   "id": "0f92683c",
   "metadata": {},
   "source": [
    "## How NN Learns\n",
    "\n",
    "![Neural Network Learning Process](https://miro.medium.com/v2/resize:fit:1400/1*SCz0aTETjTYC864Bqjt6Og.png)\n",
    "\n",
    "*Source: [Rukshan Pramoditha](https://rukshanpramoditha.medium.com/)*"
   ]
  }
 ],
 "metadata": {
  "kernelspec": {
   "display_name": "Python 3 (ipykernel)",
   "language": "python",
   "name": "python3"
  },
  "language_info": {
   "codemirror_mode": {
    "name": "ipython",
    "version": 3
   },
   "file_extension": ".py",
   "mimetype": "text/x-python",
   "name": "python",
   "nbconvert_exporter": "python",
   "pygments_lexer": "ipython3",
   "version": "3.10.9"
  }
 },
 "nbformat": 4,
 "nbformat_minor": 5
}
