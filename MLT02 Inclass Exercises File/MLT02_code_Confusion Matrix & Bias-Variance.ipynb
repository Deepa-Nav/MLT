{
 "cells": [
  {
   "cell_type": "markdown",
   "id": "bfd870f6",
   "metadata": {},
   "source": [
    "# MLT-02 ML Concepts\n",
    "\n",
    "- Authored by: *Jay Parmar*\n",
    "- Last modified on: *20th August 2023*"
   ]
  },
  {
   "cell_type": "markdown",
   "id": "20e132e6",
   "metadata": {},
   "source": [
    "## Confusion Matrix\n",
    "\n",
    "![Confusion Matrix](https://www.nbshare.io/static/snapshots/cm_colored_1-min.png)\n",
    "\n",
    "*Source: [nbshare](https://www.nbshare.io/static/snapshots/cm_colored_1-min.png)*"
   ]
  },
  {
   "cell_type": "markdown",
   "id": "8d2f211f",
   "metadata": {},
   "source": [
    "## Precision and Recall\n",
    "\n",
    "![Precision and Recall](https://miro.medium.com/v2/resize:fit:824/1*xMl_wkMt42Hy8i84zs2WGg.png)\n",
    "\n",
    "*Source: [Medium](https://miro.medium.com/v2/resize:fit:824/1*xMl_wkMt42Hy8i84zs2WGg.png)*"
   ]
  },
  {
   "cell_type": "markdown",
   "id": "7df740b3",
   "metadata": {},
   "source": [
    "## Bias\n",
    "\n",
    "The inability of a machine learning model to capture the true relationship between the features and the target is called the bias.\n",
    "\n",
    "## Variance\n",
    "\n",
    "The variability we get to see in predictions when the training dataset is changed, is called variance."
   ]
  },
  {
   "cell_type": "markdown",
   "id": "e0cdc11c",
   "metadata": {},
   "source": [
    "![Visualizing Bias-Variance](https://www.researchgate.net/profile/Junhua-Ding/publication/318432363/figure/fig3/AS:667604972761097@1536180837464/Visualizing-bias-and-variance-tradeoff-using-a-bulls-eye-diagram.ppm)\n",
    "\n",
    "*Source: [ResearchGate](https://www.researchgate.net/profile/Junhua-Ding/publication/318432363/figure/fig3/AS:667604972761097@1536180837464/Visualizing-bias-and-variance-tradeoff-using-a-bulls-eye-diagram.ppm)*"
   ]
  }
 ],
 "metadata": {
  "kernelspec": {
   "display_name": "Python 3 (ipykernel)",
   "language": "python",
   "name": "python3"
  },
  "language_info": {
   "codemirror_mode": {
    "name": "ipython",
    "version": 3
   },
   "file_extension": ".py",
   "mimetype": "text/x-python",
   "name": "python",
   "nbconvert_exporter": "python",
   "pygments_lexer": "ipython3",
   "version": "3.11.4"
  }
 },
 "nbformat": 4,
 "nbformat_minor": 5
}
